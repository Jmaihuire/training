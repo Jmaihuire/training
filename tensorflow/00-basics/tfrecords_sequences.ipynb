{
 "cells": [
  {
   "cell_type": "markdown",
   "metadata": {},
   "source": [
    "# Example of TFRecords creation for a sequence "
   ]
  },
  {
   "cell_type": "code",
   "execution_count": 11,
   "metadata": {},
   "outputs": [],
   "source": [
    "import os\n",
    "\n",
    "import numpy as np\n",
    "\n",
    "import tensorflow as tf\n",
    "\n",
    "from sklearn.utils import shuffle\n",
    "\n",
    "\n",
    "%matplotlib inline\n",
    "import matplotlib.pyplot as plt\n"
   ]
  },
  {
   "cell_type": "code",
   "execution_count": 6,
   "metadata": {},
   "outputs": [
    {
     "name": "stdout",
     "output_type": "stream",
     "text": [
      "(60000, 28, 28, 1)\n",
      "(60000,)\n"
     ]
    }
   ],
   "source": [
    "# Load MNIST data into numpy arrays\n",
    "(X_trn, y_trn), (X_tst, y_tst) = tf.keras.datasets.mnist.load_data()\n",
    "\n",
    "X_trn = np.reshape(X_trn, [X_trn.shape[0], 28, 28, 1])\n",
    "X_tst = np.reshape(X_tst, [X_tst.shape[0], 28, 28, 1])\n",
    "print(X_trn.shape)\n",
    "print(y_trn.shape)"
   ]
  },
  {
   "cell_type": "code",
   "execution_count": 22,
   "metadata": {},
   "outputs": [
    {
     "name": "stdout",
     "output_type": "stream",
     "text": [
      "<class 'list'>\n"
     ]
    },
    {
     "data": {
      "image/png": "[encoded data removed]",
      "text/plain": [
       "<Figure size 432x288 with 1 Axes>"
      ]
     },
     "metadata": {},
     "output_type": "display_data"
    }
   ],
   "source": [
    "# Functions\n",
    "\n",
    "def sequence_generator(X, y, batch_size=32, seq_size=3):\n",
    "    '''\n",
    "    '''\n",
    "    X, y = shuffle(X, y)\n",
    "    while 1:\n",
    "        start = np.random.randint(len(X)-(seq_size*batch_size))\n",
    "        seq_x = [X[start]]\n",
    "        seq_y = [y[start]]\n",
    "        start += 1\n",
    "        for j in range(seq_size-1):\n",
    "            seq_x += [X[start]]\n",
    "            seq_y += [y[start]]\n",
    "            start += 1\n",
    "        image = np.concatenate(seq_x, axis=1)\n",
    "        yield image, seq_y\n",
    "\n",
    "s = sequence_generator(X_trn, y_trn, batch_size=32, seq_size=3)\n",
    "img, l = next(s)\n",
    "\n",
    "plt.imshow(img[:,:,0], cmap='gray')\n",
    "print(type(l))"
   ]
  },
  {
   "cell_type": "code",
   "execution_count": 23,
   "metadata": {},
   "outputs": [],
   "source": [
    "def _int64_feature(values):\n",
    "    if not isinstance(values, (tuple, list)):\n",
    "        values = [values]\n",
    "    return tf.train.Feature(int64_list=tf.train.Int64List(value=values))\n",
    "\n",
    "\n",
    "\n",
    "def _bytes_feature(values):\n",
    "    return tf.train.Feature(bytes_list=tf.train.BytesList(value=[values]))\n"
   ]
  },
  {
   "cell_type": "code",
   "execution_count": 24,
   "metadata": {},
   "outputs": [],
   "source": [
    "def create_sequence_tfrecord(images, labels, size, output_file):\n",
    "    \"\"\"Converts a file to TFRecords.\"\"\"\n",
    "    print('Generating %s' % output_file)\n",
    "    with tf.python_io.TFRecordWriter(output_file) as record_writer:\n",
    "        \n",
    "        s = sequence_generator(images, labels, batch_size=32, seq_size=3)\n",
    "        for i in range(size):\n",
    "            image, label = next(s)\n",
    "            example = tf.train.Example(features=tf.train.Features(\n",
    "                feature={\n",
    "                        'image': _bytes_feature(image.tobytes()),\n",
    "                        'label': _int64_feature(label)\n",
    "                        }))\n",
    "            record_writer.write(example.SerializeToString())\n",
    "    print('Done!')\n",
    "            "
   ]
  },
  {
   "cell_type": "code",
   "execution_count": 25,
   "metadata": {},
   "outputs": [
    {
     "name": "stdout",
     "output_type": "stream",
     "text": [
      "Generating /tmp/trn.tfrecord\n",
      "Done!\n",
      "Generating /tmp/tst.tfrecord\n",
      "Done!\n"
     ]
    }
   ],
   "source": [
    "trn_tfrecords_file = '/tmp/trn.tfrecord'\n",
    "create_sequence_tfrecord(X_trn, y_trn, 500, trn_tfrecords_file)\n",
    "\n",
    "trn_tfrecords_file = '/tmp/tst.tfrecord'\n",
    "create_sequence_tfrecord(X_tst, y_tst, 100, trn_tfrecords_file)\n"
   ]
  },
  {
   "cell_type": "markdown",
   "metadata": {},
   "source": [
    "# Create the parser and the input_fn functions"
   ]
  },
  {
   "cell_type": "code",
   "execution_count": 31,
   "metadata": {},
   "outputs": [],
   "source": [
    "DEPTH = 1\n",
    "HEIGHT = 28\n",
    "WIDTH = 28*3\n",
    "\n",
    "def mnist_parser(serialized_example):\n",
    "    \"\"\"Parses a single tf.Example into image and label tensors.\"\"\"\n",
    "    features = tf.parse_single_example(\n",
    "        serialized_example,\n",
    "        features={\n",
    "            'image': tf.FixedLenFeature([], tf.string),\n",
    "            'label': tf.FixedLenFeature([3], tf.int64),\n",
    "        })\n",
    "    image = tf.decode_raw(features['image'], tf.uint8)\n",
    "    image.set_shape([DEPTH * HEIGHT * WIDTH])\n",
    "\n",
    "    # Reshape from [depth * height * width] to [depth, height, width].\n",
    "    image = tf.cast(\n",
    "        tf.transpose(tf.reshape(image, [DEPTH, HEIGHT, WIDTH]), [1, 2, 0]),\n",
    "        tf.float32)\n",
    "    label = tf.cast(features['label'], tf.int32)\n",
    "\n",
    "    # Custom preprocessing.\n",
    "    #image = self.preprocess(image)\n",
    "\n",
    "    return image, label"
   ]
  },
  {
   "cell_type": "code",
   "execution_count": 32,
   "metadata": {},
   "outputs": [],
   "source": [
    "def train_input_fn(TFfilenames, batch_size):\n",
    "    \"\"\"An input function for training\"\"\"\n",
    "    \n",
    "    dataset = tf.data.TFRecordDataset(TFfilenames)\n",
    "    dataset = dataset.map(mnist_parser, num_parallel_calls=1)\n",
    "    \n",
    "    # Shuffle, repeat, and batch the examples.\n",
    "    dataset = dataset.cache().shuffle(buffer_size=1000).repeat().batch(batch_size)\n",
    "\n",
    "    # Generate iterator and return the next elements of the iterator\n",
    "    # in 1.6 and above you can pass directly the dataset and the estimator build internaly the iterator.\n",
    "    (images, labels) = dataset.make_one_shot_iterator().get_next()\n",
    "    return (images, labels)\n"
   ]
  },
  {
   "cell_type": "code",
   "execution_count": 33,
   "metadata": {},
   "outputs": [],
   "source": [
    "def test_input_fn(TFfilenames, batch_size):\n",
    "    # ... Pending\n",
    "    return (images, labels)"
   ]
  },
  {
   "cell_type": "code",
   "execution_count": 34,
   "metadata": {},
   "outputs": [],
   "source": [
    "# Define our input pipeline. Pin it to the CPU so that the GPU can be reserved\n",
    "# for forward and backwards propogation.\n",
    "\n",
    "tf.reset_default_graph()\n",
    "\n",
    "batch_size = 32\n",
    "with tf.device('/cpu:0'):\n",
    "    train_images, train_labels = train_input_fn(trn_tfrecords_file, batch_size)\n",
    "    \n",
    " "
   ]
  },
  {
   "cell_type": "markdown",
   "metadata": {},
   "source": [
    "# Check the tfrecord content"
   ]
  },
  {
   "cell_type": "code",
   "execution_count": 35,
   "metadata": {},
   "outputs": [
    {
     "name": "stdout",
     "output_type": "stream",
     "text": [
      "[[8 2 2]\n",
      " [2 8 0]\n",
      " [7 0 9]\n",
      " [1 8 5]\n",
      " [1 7 8]\n",
      " [0 5 2]\n",
      " [2 2 0]\n",
      " [1 0 4]\n",
      " [7 3 2]\n",
      " [2 4 5]\n",
      " [3 8 3]\n",
      " [4 6 1]\n",
      " [7 9 8]\n",
      " [4 9 2]\n",
      " [1 6 6]\n",
      " [0 6 8]\n",
      " [2 0 5]\n",
      " [7 0 8]\n",
      " [8 1 6]\n",
      " [7 5 2]\n",
      " [6 0 4]\n",
      " [8 0 0]\n",
      " [1 0 6]\n",
      " [8 0 8]\n",
      " [8 5 4]\n",
      " [7 1 2]\n",
      " [0 3 3]\n",
      " [0 4 9]\n",
      " [7 1 8]\n",
      " [0 2 5]\n",
      " [1 3 3]\n",
      " [0 9 1]]\n"
     ]
    },
    {
     "data": {
      "image/png": "[encoded data removed]",
      "text/plain": [
       "<Figure size 432x288 with 1 Axes>"
      ]
     },
     "metadata": {},
     "output_type": "display_data"
    }
   ],
   "source": [
    "# Sanity check that all is correct\n",
    "\n",
    "\n",
    "with tf.Session() as sess:\n",
    "    sess.run(tf.global_variables_initializer())\n",
    "    with tf.contrib.slim.queues.QueueRunners(sess):\n",
    "        sample_images, sample_labels = sess.run([train_images, train_labels])\n",
    "\n",
    "plt.imshow(sample_images[0,:,:,0], cmap='gray')\n",
    "print(sample_labels)"
   ]
  },
  {
   "cell_type": "code",
   "execution_count": null,
   "metadata": {},
   "outputs": [],
   "source": []
  },
  {
   "cell_type": "code",
   "execution_count": null,
   "metadata": {},
   "outputs": [],
   "source": []
  },
  {
   "cell_type": "code",
   "execution_count": null,
   "metadata": {},
   "outputs": [],
   "source": []
  },
  {
   "cell_type": "code",
   "execution_count": null,
   "metadata": {},
   "outputs": [],
   "source": []
  },
  {
   "cell_type": "code",
   "execution_count": null,
   "metadata": {},
   "outputs": [],
   "source": []
  }
 ],
 "metadata": {
  "kernelspec": {
   "display_name": "Python [conda env:tf14]",
   "language": "python",
   "name": "conda-env-tf14-py"
  },
  "language_info": {
   "codemirror_mode": {
    "name": "ipython",
    "version": 3
   },
   "file_extension": ".py",
   "mimetype": "text/x-python",
   "name": "python",
   "nbconvert_exporter": "python",
   "pygments_lexer": "ipython3",
   "version": "3.5.5"
  },
  "varInspector": {
   "cols": {
    "lenName": 16,
    "lenType": 16,
    "lenVar": 40
   },
   "kernels_config": {
    "python": {
     "delete_cmd_postfix": "",
     "delete_cmd_prefix": "del ",
     "library": "var_list.py",
     "varRefreshCmd": "print(var_dic_list())"
    },
    "r": {
     "delete_cmd_postfix": ") ",
     "delete_cmd_prefix": "rm(",
     "library": "var_list.r",
     "varRefreshCmd": "cat(var_dic_list()) "
    }
   },
   "types_to_exclude": [
    "module",
    "function",
    "builtin_function_or_method",
    "instance",
    "_Feature"
   ],
   "window_display": false
  }
 },
 "nbformat": 4,
 "nbformat_minor": 2
}
