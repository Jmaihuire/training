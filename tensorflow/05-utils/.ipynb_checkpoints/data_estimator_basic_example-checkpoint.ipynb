{
 "cells": [
  {
   "cell_type": "code",
   "execution_count": 1,
   "metadata": {
    "collapsed": true
   },
   "outputs": [],
   "source": [
    "import os\n",
    "import sys\n",
    "\n",
    "import tensorflow as tf"
   ]
  },
  {
   "cell_type": "code",
   "execution_count": 3,
   "metadata": {
    "collapsed": true
   },
   "outputs": [],
   "source": [
    "tf_records_dir = '/Users/jorge/data/cats_vs_dogs/' "
   ]
  },
  {
   "cell_type": "code",
   "execution_count": 4,
   "metadata": {},
   "outputs": [],
   "source": [
    "# Creates a dataset that reads all of the examples from two files.\n",
    "tf_trn = [tf_records_dir + \"data_train_00000-of-00005.tfrecord\",\n",
    "             tf_records_dir + \"data_train_00001-of-00005.tfrecord\",\n",
    "             tf_records_dir + \"data_train_00002-of-00005.tfrecord\",\n",
    "             tf_records_dir + \"data_train_00003-of-00005.tfrecord\",\n",
    "             tf_records_dir + \"data_train_00004-of-00005.tfrecord\",]\n",
    "tf_val = [tf_records_dir + \"data_validation_00000-of-00005.tfrecord\",\n",
    "             tf_records_dir + \"data_validation_00001-of-00005.tfrecord\",\n",
    "             tf_records_dir + \"data_validation_00002-of-00005.tfrecord\",\n",
    "             tf_records_dir + \"data_validation_00003-of-00005.tfrecord\",\n",
    "             tf_records_dir + \"data_validation_00004-of-00005.tfrecord\",]\n",
    "\n"
   ]
  },
  {
   "cell_type": "code",
   "execution_count": null,
   "metadata": {
    "collapsed": true
   },
   "outputs": [],
   "source": [
    "def map_func:\n",
    "    "
   ]
  },
  {
   "cell_type": "code",
   "execution_count": null,
   "metadata": {
    "collapsed": true
   },
   "outputs": [],
   "source": [
    "# Use a tf.placeholder(tf.string) to represent the filenames,\n",
    "#  and initialize an iterator from the appropriate filenames\n",
    "\n",
    "filenames = tf.placeholder(tf.string, shape=[None])\n",
    "dataset = tf.data.TFRecordDataset(filenames)\n",
    "dataset = dataset.map(map_func)  # Parse the record into tensors.\n",
    "dataset = dataset.repeat()  # Repeat the input indefinitely.\n",
    "dataset = dataset.batch(32)\n",
    "iterator = dataset.make_initializable_iterator()\n",
    "\n",
    "\n"
   ]
  },
  {
   "cell_type": "code",
   "execution_count": null,
   "metadata": {
    "collapsed": true
   },
   "outputs": [],
   "source": []
  },
  {
   "cell_type": "code",
   "execution_count": null,
   "metadata": {
    "collapsed": true
   },
   "outputs": [],
   "source": []
  },
  {
   "cell_type": "code",
   "execution_count": null,
   "metadata": {
    "collapsed": true
   },
   "outputs": [],
   "source": []
  },
  {
   "cell_type": "code",
   "execution_count": null,
   "metadata": {
    "collapsed": true
   },
   "outputs": [],
   "source": [
    "# You can feed the initializer with the appropriate filenames for the current\n",
    "# phase of execution, e.g. training vs. validation.\n",
    "\n",
    "# Initialize `iterator` with training data.\n",
    "sess.run(iterator.initializer, feed_dict={filenames: tf_trn})\n",
    "\n",
    "# Initialize `iterator` with validation data.\n",
    "sess.run(iterator.initializer, feed_dict={filenames: tf_val})\n"
   ]
  },
  {
   "cell_type": "code",
   "execution_count": null,
   "metadata": {
    "collapsed": true
   },
   "outputs": [],
   "source": []
  }
 ],
 "metadata": {
  "kernelspec": {
   "display_name": "Python [conda env:tf14]",
   "language": "python",
   "name": "conda-env-tf14-py"
  },
  "language_info": {
   "codemirror_mode": {
    "name": "ipython",
    "version": 3
   },
   "file_extension": ".py",
   "mimetype": "text/x-python",
   "name": "python",
   "nbconvert_exporter": "python",
   "pygments_lexer": "ipython3",
   "version": "3.5.4"
  }
 },
 "nbformat": 4,
 "nbformat_minor": 2
}
