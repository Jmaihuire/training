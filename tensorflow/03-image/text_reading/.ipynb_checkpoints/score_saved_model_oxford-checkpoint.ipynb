{
 "cells": [
  {
   "cell_type": "code",
   "execution_count": 6,
   "metadata": {},
   "outputs": [],
   "source": [
    "import os\n",
    "import logging\n",
    "\n",
    "import pandas as pd\n",
    "import numpy as np \n",
    "import tensorflow as tf\n",
    "\n",
    "from PIL import Image\n",
    "\n",
    "import matplotlib.pyplot as plt\n",
    "%matplotlib inline\n",
    "plt.rcParams['figure.figsize'] = (10, 10) \n",
    "\n",
    "os.environ[\"CUDA_DEVICE_ORDER\"]=\"PCI_BUS_ID\"\n",
    "os.environ[\"CUDA_VISIBLE_DEVICES\"] = '1'\n",
    "\n",
    "\n"
   ]
  },
  {
   "cell_type": "code",
   "execution_count": 2,
   "metadata": {},
   "outputs": [
    {
     "name": "stdout",
     "output_type": "stream",
     "text": [
      "(<tf.Tensor 'IteratorGetNext:0' shape=(48, 192, 1) dtype=float32>, <tf.Tensor 'IteratorGetNext:1' shape=() dtype=int64>)\n",
      "(<tf.Tensor 'IteratorGetNext:2' shape=(19,) dtype=int64>, <tf.Tensor 'IteratorGetNext:3' shape=() dtype=int64>)\n",
      "(array([21, 56, 37, 40, -1, -1, -1, -1, -1, -1, -1, -1, -1, -1, -1, -1, -1,\n",
      "       -1, -1]), 4)\n",
      "img: [0.36078432 0.36078432 0.36078432 0.36078432 0.36078432 0.36078432\n",
      " 0.36078432 0.36078432 0.36078432 0.36078432 0.36078432 0.36078432\n",
      " 0.3372549  0.3372549  0.34509805 0.34509805 0.34509805 0.29411766\n",
      " 0.10588235 0.10588235 0.11372549 0.11372549 0.06666667 0.23529412\n",
      " 0.23529412 0.3529412  0.34901962 0.34901962 0.34901962 0.3529412\n",
      " 0.3529412  0.36078432 0.36078432 0.36078432 0.35686275 0.34901962\n",
      " 0.34901962 0.36862746 0.36862746 0.36862746 0.29411766 0.29411766\n",
      " 0.27450982 0.1882353  0.1882353  0.14901961 0.3019608  0.3019608\n",
      " 0.3529412  0.36078432 0.36078432 0.33333334 0.34117648 0.34117648\n",
      " 0.26666668 0.10980392 0.10980392 0.09411765 0.09411765 0.23921569\n",
      " 0.34509805 0.34509805 0.37254903 0.3529412  0.3529412  0.3647059\n",
      " 0.3372549  0.3372549  0.2        0.02745098 0.02745098 0.03921569\n",
      " 0.05490196 0.05490196 0.3529412  0.3529412  0.25490198 0.16862746\n",
      " 0.16862746 0.16470589 0.13725491 0.13725491 0.14901961 0.27058825\n",
      " 0.27058825 0.34509805 0.3254902  0.3254902  0.34117648 0.38039216\n",
      " 0.38039216 0.38039216 0.38039216 0.27450982 0.12156863 0.12156863\n",
      " 0.04705882 0.05882353 0.05882353 0.04313726 0.01568628 0.01568628\n",
      " 0.07058824 0.21568628 0.21568628 0.3372549  0.36862746 0.36862746\n",
      " 0.36078432 0.36078432 0.36078432 0.         0.         0.\n",
      " 0.         0.         0.         0.         0.         0.\n",
      " 0.         0.         0.         0.         0.         0.\n",
      " 0.         0.         0.         0.         0.         0.\n",
      " 0.         0.         0.         0.         0.         0.\n",
      " 0.         0.         0.         0.         0.         0.\n",
      " 0.         0.         0.         0.         0.         0.\n",
      " 0.         0.         0.         0.         0.         0.\n",
      " 0.         0.         0.         0.         0.         0.\n",
      " 0.         0.         0.         0.         0.         0.\n",
      " 0.         0.         0.         0.         0.         0.\n",
      " 0.         0.         0.         0.         0.         0.\n",
      " 0.         0.         0.         0.         0.         0.\n",
      " 0.         0.         0.         0.         0.         0.        ]\n"
     ]
    },
    {
     "data": {
      "text/plain": [
       "<matplotlib.image.AxesImage at 0x7f79101d0748>"
      ]
     },
     "execution_count": 2,
     "metadata": {},
     "output_type": "execute_result"
    },
    {
     "data": {
      "image/png": "[encoded data removed]",
      "text/plain": [
       "<Figure size 432x288 with 1 Axes>"
      ]
     },
     "metadata": {},
     "output_type": "display_data"
    }
   ],
   "source": [
    "# Sanity check that we're getting images.\n",
    "\n",
    "trn_dir = '/home/ubuntu/data/oxford_syntetic_text/TFrecords_sample/trn'\n",
    "tfrecords_files_trn = [os.path.join(trn_dir, f) for f in os.listdir(trn_dir)]\n",
    "\n",
    "def my_parser(serialized_example):\n",
    "    \"\"\"Parses a single tf.Example into image and label tensors.\"\"\"\n",
    "    features = tf.parse_single_example(\n",
    "        serialized_example,\n",
    "        features={'image/encoded': tf.FixedLenFeature([], tf.string),\n",
    "                  'image/length': tf.FixedLenFeature([], tf.int64),\n",
    "                  'image/height': tf.FixedLenFeature([], tf.int64),\n",
    "                  'image/width': tf.FixedLenFeature([], tf.int64),\n",
    "                  'image/label': tf.FixedLenFeature([19], tf.int64),\n",
    "                  'image/label_length': tf.FixedLenFeature([], tf.int64)}\n",
    "        )\n",
    "\n",
    "    image = tf.image.decode_png(features['image/encoded'], dtype=tf.uint8)\n",
    "    \n",
    "    # Reshape from [depth * height * width] to [depth, height, width].\n",
    "    image = tf.cast(\n",
    "        tf.transpose(tf.reshape(image, [1, 48, 192]), [1, 2, 0]),\n",
    "        tf.float32) / 255.0\n",
    "    \n",
    "    image_len = features['image/length']\n",
    "    \n",
    "    \n",
    "    \n",
    "    label = features['image/label']\n",
    "    label_length = features['image/label_length']\n",
    "    \n",
    "    return (image, image_len), (label, label_length)\n",
    "\n",
    "tf.reset_default_graph()\n",
    "\n",
    "with tf.device('/cpu:0'):\n",
    "    \n",
    "    dataset = tf.data.TFRecordDataset(tfrecords_files_trn)\n",
    "    dataset = dataset.map(my_parser, num_parallel_calls=1)\n",
    "            \n",
    "    (image, label) = dataset.make_one_shot_iterator().get_next()\n",
    "    print(image)\n",
    "    print(label)\n",
    "\n",
    "with tf.Session() as sess:\n",
    "    sess.run(tf.global_variables_initializer())\n",
    "    img, l = sess.run([image, label])\n",
    "    \n",
    "print(l)\n",
    "print('img:', img[0][20,:,0])\n",
    "plt.imshow(img[0][:,:,0], cmap='gray')"
   ]
  },
  {
   "cell_type": "code",
   "execution_count": 24,
   "metadata": {},
   "outputs": [],
   "source": [
    "# Decoder dict and num_classes\n",
    "char_list = ['0', '1', '2', '3', '4', '5', '6', '7', '8', '9', 'A', 'B', 'C', 'D', 'E',\n",
    "     'F', 'G', 'H', 'I', 'J', 'K', 'L', 'M', 'N', 'O', 'P', 'Q', 'R', 'S', 'T', 'U',\n",
    "     'V', 'W', 'X', 'Y', 'Z', 'a', 'b', 'c', 'd', 'e', 'f', 'g', 'h', 'i', 'j', 'k',\n",
    "     'l', 'm', 'n', 'o', 'p', 'q', 'r', 's', 't', 'u', 'v', 'w', 'x', 'y', 'z']    \n",
    "encoder_dict = {}\n",
    "for i, c in enumerate(char_list):\n",
    "    encoder_dict[c] = i\n",
    "decoder_dict = {}\n",
    "for e in encoder_dict:\n",
    "    decoder_dict[encoder_dict[e]]=e\n",
    "\n",
    "    \n",
    "def decode_word(l, decoder_dict, blank_code=-1):\n",
    "        return ''.join([decoder_dict[x] for x in l if x!=blank_code])\n",
    "\n",
    "\n",
    "def adjust_image(img_file, x_size=192, y_size=48, x_blanks_ini=5):\n",
    "    \n",
    "    im = Image.open(img_file)\n",
    "    if np.max(im)>0:\n",
    "        x, y = im.size\n",
    "        factor = y_size/y\n",
    "        new_x = min( max(1, int(factor*x)), x_size-x_blanks_ini)\n",
    "        if len(np.array(im.resize((new_x, y_size))).shape) == 3:\n",
    "            img = np.array(im.resize((new_x, y_size)))[:,:,0]\n",
    "        else:\n",
    "            img = np.array(im.resize((new_x, y_size)))\n",
    "        img_adjusted = np.concatenate([np.zeros((y_size, x_blanks_ini)), img], axis=1)\n",
    "        new_x_size = img_adjusted.shape[1]\n",
    "        if new_x_size < x_size:\n",
    "            img_adjusted = np.concatenate([img_adjusted, np.zeros((y_size, x_size-new_x_size))], axis=1)\n",
    "\n",
    "        if np.max(img_adjusted)>0:\n",
    "            return img_adjusted\n",
    "        else:\n",
    "            return []\n",
    "    else:\n",
    "        return []\n",
    "\n",
    "def read_word_image(f, target_c, x_size=192, y_size=48, target_max_size=19):\n",
    "    '''\n",
    "    \n",
    "    '''\n",
    "    # adjust and resize to the final size\n",
    "    img_adjusted = adjust_image(f, x_size=x_size, y_size=y_size)\n",
    "    \n",
    "    if img_adjusted != []:\n",
    "\n",
    "        #Calculate image_len\n",
    "        image_len = np.max(np.nonzero(np.max(img_adjusted, axis=0))) \n",
    "\n",
    "        # Target\n",
    "        target_ini = [encoder_dict[k] for k in target_c] # encode to \n",
    "        if len(target_ini)>target_max_size: # Pendiente de resolver mejor\n",
    "            target_ini = target_ini[:target_max_size]\n",
    "        target_len = len(target_ini)\n",
    "        target = np.ones([target_max_size], dtype=np.uint8)*(-1)\n",
    "        target[:target_len] = target_ini\n",
    "                        \n",
    "        return img_adjusted/255, list(target), image_len, target_len\n",
    "    \n",
    "    else:\n",
    "        return [], None, None, None\n",
    "    \n",
    "def data_generator(file_list, path_files=data_path, batch_size=16, max_files=0):\n",
    "    if max_files==0: # all files\n",
    "        num_batches = len(file_list)//batch_size\n",
    "    else:\n",
    "        num_batches = min(max_files//batch_size, len(file_list)//batch_size)\n",
    "    n = 0    \n",
    "    \n",
    "    # Shuffle files\n",
    "    np.random.shuffle(file_list)\n",
    "    \n",
    "    for j in range(num_batches):\n",
    "        images_batch = []\n",
    "        images_len_batch = []\n",
    "        target_batch = []\n",
    "        target_len_batch = []\n",
    "        for i in range(batch_size):\n",
    "            f = os.path.join(path_files, file_list[n])\n",
    "            target_c = f.split('/')[-1].split('.')[0].split('_')[1] \n",
    "            img, t, img_l, t_l = read_word_image(os.path.join(path_files, f), target_c, x_size=192, y_size=48, target_max_size=19)\n",
    "            img = np.reshape(img, (48, 192, 1))\n",
    "            images_batch += [img]\n",
    "            images_len_batch += [img_l]\n",
    "            target_batch += [t]\n",
    "            target_len_batch += [t_l]\n",
    "            n += 1\n",
    "            \n",
    "        yield np.array(images_batch), images_len_batch, target_batch, target_len_batch\n",
    "            \n"
   ]
  },
  {
   "cell_type": "code",
   "execution_count": 22,
   "metadata": {},
   "outputs": [
    {
     "name": "stderr",
     "output_type": "stream",
     "text": [
      "/home/jorge/anaconda3/envs/tf18_1/lib/python3.5/site-packages/ipykernel/__main__.py:44: DeprecationWarning: elementwise != comparison failed; this will raise an error in the future.\n"
     ]
    },
    {
     "name": "stdout",
     "output_type": "stream",
     "text": [
      "(32, 48, 192, 1)\n"
     ]
    }
   ],
   "source": [
    "# Read images to score\n",
    "data_path = '/home/ubuntu/data/oxford_syntetic_text/mnt/ramdisk/max/90kDICT32px'\n",
    "\n",
    "\n",
    "df_test  = pd.read_csv(os.path.join(data_path,'annotation_test.txt' ), delimiter=' ', names=['file', 'n'])\n",
    "\n",
    "\n",
    "# test\n",
    "trn_generator = data_generator(list(df_test.file), path_files=data_path, batch_size=32, max_files=32) \n",
    "images_b, images_len_b, target_b, target_len_b = next(trn_generator)\n",
    "print(images_b.shape)\n",
    "\n"
   ]
  },
  {
   "cell_type": "code",
   "execution_count": 25,
   "metadata": {},
   "outputs": [
    {
     "name": "stdout",
     "output_type": "stream",
     "text": [
      "INFO:tensorflow:Restoring parameters from /home/ubuntu/data/oxford_syntetic_text/models/test03/model-7\n",
      "['Suffrage', 'Pwnest', 'SPLATTER', 'Ineolithic', 'predesignmts', 'IRAnGULATING', 'Lardo', 'Nalkover', 'BElipse', 'Enfilade', 'cocoons', 'ackco', 'patrfiarchzies', 'Inonzero', 'Pists', 'CERoUSER', 'REMEMBERED', 'AMORTIZATIOn', 'Clang', 'MnasmuCh', 'Depsitions', 'pounding', 'pisadvantages', 'CHORTLERS', 'pitting', 'pISCUSSING', 'RSiaelers', 'PERFIDY', 'MEMORIALIZING', 'ReCTATON', 'Acurries', 'BiwospeeRIDg']\n"
     ]
    }
   ],
   "source": [
    "experiment_dir = '/home/ubuntu/data/oxford_syntetic_text/models'\n",
    "\n",
    "experiment_name = 'test03'\n",
    "      \n",
    "checkpoint_name = 'model-7'\n",
    "    \n",
    "max_seq_size = 5\n",
    "\n",
    "\n",
    "# Start interactive session\n",
    "graph = tf.Graph()\n",
    "\n",
    "gpu_options = tf.GPUOptions(allow_growth = True)\n",
    "\n",
    "with tf.Session(graph=graph, config=tf.ConfigProto(gpu_options=gpu_options)) as sess:\n",
    " \n",
    "    #Load model\n",
    "    \n",
    "    new_saver = tf.train.import_meta_graph(os.path.join(experiment_dir, experiment_name, checkpoint_name+'.meta'))\n",
    "    new_saver.restore(sess, os.path.join(experiment_dir, experiment_name, checkpoint_name))\n",
    "    \n",
    "    images_batch_ph = tf.get_collection('images_batch_ph')[0]\n",
    "    image_len_ph = tf.get_collection('image_len_ph')[0]\n",
    "    labels_batch_ph = tf.get_collection('labels_batch_ph')[0]\n",
    "    labels_len_batch_ph = tf.get_collection('labels_len_batch_ph')[0]\n",
    "    logits = tf.get_collection('logits')[0]\n",
    "    dense_prediction = tf.get_collection('dense_prediction')[0]\n",
    "    \n",
    "    pred = sess.run(dense_prediction,\n",
    "                    feed_dict={images_batch_ph: images_b, image_len_ph: images_len_b,\n",
    "                               labels_batch_ph: target_b, labels_len_batch_ph: target_len_b}) \n",
    "            \n",
    "    pred = [decode_word(w, decoder_dict) for w in pred]\n",
    "\n",
    "print(pred)"
   ]
  },
  {
   "cell_type": "code",
   "execution_count": 31,
   "metadata": {},
   "outputs": [
    {
     "data": {
      "text/plain": [
       "<matplotlib.image.AxesImage at 0x7f78587adb00>"
      ]
     },
     "execution_count": 31,
     "metadata": {},
     "output_type": "execute_result"
    },
    {
     "data": {
      "image/png": "[encoded data removed]",
      "text/plain": [
       "<Figure size 720x720 with 1 Axes>"
      ]
     },
     "metadata": {},
     "output_type": "display_data"
    }
   ],
   "source": [
    "plt.imshow(images_b[0,:,:,0], cmap='gray')"
   ]
  },
  {
   "cell_type": "code",
   "execution_count": null,
   "metadata": {},
   "outputs": [],
   "source": []
  }
 ],
 "metadata": {
  "kernelspec": {
   "display_name": "Python [conda env:tf18_1]",
   "language": "python",
   "name": "conda-env-tf18_1-py"
  },
  "language_info": {
   "codemirror_mode": {
    "name": "ipython",
    "version": 3
   },
   "file_extension": ".py",
   "mimetype": "text/x-python",
   "name": "python",
   "nbconvert_exporter": "python",
   "pygments_lexer": "ipython3",
   "version": "3.5.4"
  },
  "varInspector": {
   "cols": {
    "lenName": 16,
    "lenType": 16,
    "lenVar": 40
   },
   "kernels_config": {
    "python": {
     "delete_cmd_postfix": "",
     "delete_cmd_prefix": "del ",
     "library": "var_list.py",
     "varRefreshCmd": "print(var_dic_list())"
    },
    "r": {
     "delete_cmd_postfix": ") ",
     "delete_cmd_prefix": "rm(",
     "library": "var_list.r",
     "varRefreshCmd": "cat(var_dic_list()) "
    }
   },
   "types_to_exclude": [
    "module",
    "function",
    "builtin_function_or_method",
    "instance",
    "_Feature"
   ],
   "window_display": false
  }
 },
 "nbformat": 4,
 "nbformat_minor": 2
}
